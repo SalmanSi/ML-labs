{
 "cells": [
  {
   "cell_type": "markdown",
   "metadata": {},
   "source": [
    "### Task1: Load and prepare dataset (heart disease dataset)"
   ]
  },
  {
   "cell_type": "code",
   "execution_count": null,
   "metadata": {},
   "outputs": [],
   "source": [
    "!pip install kagglehub"
   ]
  },
  {
   "cell_type": "code",
   "execution_count": null,
   "metadata": {},
   "outputs": [],
   "source": [
    "!pip install scikit-learn\n"
   ]
  },
  {
   "cell_type": "code",
   "execution_count": 4,
   "metadata": {},
   "outputs": [
    {
     "name": "stdout",
     "output_type": "stream",
     "text": [
      "Downloading from https://www.kaggle.com/api/v1/datasets/download/alexteboul/heart-disease-health-indicators-dataset?dataset_version_number=3...\n"
     ]
    },
    {
     "name": "stderr",
     "output_type": "stream",
     "text": [
      "100%|██████████| 2.66M/2.66M [00:05<00:00, 502kB/s]"
     ]
    },
    {
     "name": "stdout",
     "output_type": "stream",
     "text": [
      "Extracting files...\n",
      "Path to dataset files: C:\\Users\\HP\\.cache\\kagglehub\\datasets\\alexteboul\\heart-disease-health-indicators-dataset\\versions\\3\n"
     ]
    },
    {
     "name": "stderr",
     "output_type": "stream",
     "text": [
      "\n"
     ]
    }
   ],
   "source": [
    "import kagglehub\n",
    "\n",
    "# Download latest version\n",
    "path = kagglehub.dataset_download(\"alexteboul/heart-disease-health-indicators-dataset\")\n",
    "\n",
    "print(\"Path to dataset files:\", path)"
   ]
  },
  {
   "cell_type": "code",
   "execution_count": 1,
   "metadata": {},
   "outputs": [
    {
     "name": "stdout",
     "output_type": "stream",
     "text": [
      "<class 'pandas.core.frame.DataFrame'>\n",
      "RangeIndex: 253680 entries, 0 to 253679\n",
      "Data columns (total 22 columns):\n",
      " #   Column                Non-Null Count   Dtype  \n",
      "---  ------                --------------   -----  \n",
      " 0   HeartDiseaseorAttack  253680 non-null  float64\n",
      " 1   HighBP                253680 non-null  float64\n",
      " 2   HighChol              253680 non-null  float64\n",
      " 3   CholCheck             253680 non-null  float64\n",
      " 4   BMI                   253680 non-null  float64\n",
      " 5   Smoker                253680 non-null  float64\n",
      " 6   Stroke                253680 non-null  float64\n",
      " 7   Diabetes              253680 non-null  float64\n",
      " 8   PhysActivity          253680 non-null  float64\n",
      " 9   Fruits                253680 non-null  float64\n",
      " 10  Veggies               253680 non-null  float64\n",
      " 11  HvyAlcoholConsump     253680 non-null  float64\n",
      " 12  AnyHealthcare         253680 non-null  float64\n",
      " 13  NoDocbcCost           253680 non-null  float64\n",
      " 14  GenHlth               253680 non-null  float64\n",
      " 15  MentHlth              253680 non-null  float64\n",
      " 16  PhysHlth              253680 non-null  float64\n",
      " 17  DiffWalk              253680 non-null  float64\n",
      " 18  Sex                   253680 non-null  float64\n",
      " 19  Age                   253680 non-null  float64\n",
      " 20  Education             253680 non-null  float64\n",
      " 21  Income                253680 non-null  float64\n",
      "dtypes: float64(22)\n",
      "memory usage: 42.6 MB\n"
     ]
    }
   ],
   "source": [
    "import pandas as pd\n",
    "from sklearn.model_selection import train_test_split\n",
    "from sklearn.preprocessing import StandardScaler\n",
    "import numpy as np\n",
    "df=pd.read_csv('heart_disease_health_indicators_BRFSS2015.csv')\n",
    "df.info()"
   ]
  },
  {
   "cell_type": "code",
   "execution_count": 352,
   "metadata": {},
   "outputs": [],
   "source": [
    "data={}\n",
    "# binary features of HighBP, HighChol and Stroke are chosen\n",
    "data['data']=df\n",
    "# binary label respresenting heart disease is chose\n",
    "data['label']=df[['HeartDiseaseorAttack']]"
   ]
  },
  {
   "cell_type": "code",
   "execution_count": 353,
   "metadata": {},
   "outputs": [],
   "source": [
    "## scale age\n",
    "scaler=StandardScaler()\n",
    "data['data']['Age'] = scaler.fit_transform(data['data'][['Age']])\n"
   ]
  },
  {
   "cell_type": "code",
   "execution_count": 354,
   "metadata": {},
   "outputs": [
    {
     "name": "stdout",
     "output_type": "stream",
     "text": [
      "   HeartDiseaseorAttack  HighBP  HighChol  CholCheck   BMI  Smoker  Stroke  \\\n",
      "0                   0.0     1.0       1.0        1.0  40.0     1.0     0.0   \n",
      "1                   0.0     0.0       0.0        0.0  25.0     1.0     0.0   \n",
      "2                   0.0     1.0       1.0        1.0  28.0     0.0     0.0   \n",
      "3                   0.0     1.0       0.0        1.0  27.0     0.0     0.0   \n",
      "4                   0.0     1.0       1.0        1.0  24.0     0.0     0.0   \n",
      "\n",
      "   Diabetes  PhysActivity  Fruits  ...  AnyHealthcare  NoDocbcCost  GenHlth  \\\n",
      "0       0.0           0.0     0.0  ...            1.0          0.0      5.0   \n",
      "1       0.0           1.0     0.0  ...            0.0          1.0      3.0   \n",
      "2       0.0           0.0     1.0  ...            1.0          1.0      5.0   \n",
      "3       0.0           1.0     1.0  ...            1.0          0.0      2.0   \n",
      "4       0.0           1.0     1.0  ...            1.0          0.0      2.0   \n",
      "\n",
      "   MentHlth  PhysHlth  DiffWalk  Sex       Age  Education  Income  \n",
      "0      18.0      15.0       1.0  0.0  0.316900        4.0     3.0  \n",
      "1       0.0       0.0       0.0  0.0 -0.337933        6.0     1.0  \n",
      "2      30.0      30.0       1.0  0.0  0.316900        4.0     8.0  \n",
      "3       0.0       0.0       0.0  0.0  0.971733        3.0     6.0  \n",
      "4       3.0       0.0       0.0  0.0  0.971733        5.0     4.0  \n",
      "\n",
      "[5 rows x 22 columns]\n",
      "   HeartDiseaseorAttack\n",
      "0                   0.0\n",
      "1                   0.0\n",
      "2                   0.0\n",
      "3                   0.0\n",
      "4                   0.0\n"
     ]
    }
   ],
   "source": [
    "print(data['data'][:5])\n",
    "print(data['label'][:5])"
   ]
  },
  {
   "cell_type": "code",
   "execution_count": 355,
   "metadata": {},
   "outputs": [
    {
     "name": "stdout",
     "output_type": "stream",
     "text": [
      "training examples: 228312\n",
      "test examples: 25368\n"
     ]
    }
   ],
   "source": [
    "X_train,X_test,y_train,y_test=train_test_split(data['data'],data['label'],test_size=0.10,shuffle=True)\n",
    "print(f\"training examples: {len(X_train)}\")\n",
    "print(f\"test examples: {len(X_test)}\")"
   ]
  },
  {
   "cell_type": "code",
   "execution_count": 356,
   "metadata": {},
   "outputs": [],
   "source": [
    "train_df=pd.concat([X_train,y_train],axis=1)\n",
    "test_df=pd.concat([X_test,y_test],axis=1)"
   ]
  },
  {
   "cell_type": "code",
   "execution_count": 357,
   "metadata": {},
   "outputs": [
    {
     "data": {
      "text/html": [
       "<div>\n",
       "<style scoped>\n",
       "    .dataframe tbody tr th:only-of-type {\n",
       "        vertical-align: middle;\n",
       "    }\n",
       "\n",
       "    .dataframe tbody tr th {\n",
       "        vertical-align: top;\n",
       "    }\n",
       "\n",
       "    .dataframe thead th {\n",
       "        text-align: right;\n",
       "    }\n",
       "</style>\n",
       "<table border=\"1\" class=\"dataframe\">\n",
       "  <thead>\n",
       "    <tr style=\"text-align: right;\">\n",
       "      <th></th>\n",
       "      <th>HeartDiseaseorAttack</th>\n",
       "      <th>HighBP</th>\n",
       "      <th>HighChol</th>\n",
       "      <th>CholCheck</th>\n",
       "      <th>BMI</th>\n",
       "      <th>Smoker</th>\n",
       "      <th>Stroke</th>\n",
       "      <th>Diabetes</th>\n",
       "      <th>PhysActivity</th>\n",
       "      <th>Fruits</th>\n",
       "      <th>...</th>\n",
       "      <th>NoDocbcCost</th>\n",
       "      <th>GenHlth</th>\n",
       "      <th>MentHlth</th>\n",
       "      <th>PhysHlth</th>\n",
       "      <th>DiffWalk</th>\n",
       "      <th>Sex</th>\n",
       "      <th>Age</th>\n",
       "      <th>Education</th>\n",
       "      <th>Income</th>\n",
       "      <th>HeartDiseaseorAttack</th>\n",
       "    </tr>\n",
       "  </thead>\n",
       "  <tbody>\n",
       "    <tr>\n",
       "      <th>176010</th>\n",
       "      <td>0.0</td>\n",
       "      <td>0.0</td>\n",
       "      <td>0.0</td>\n",
       "      <td>1.0</td>\n",
       "      <td>29.0</td>\n",
       "      <td>1.0</td>\n",
       "      <td>0.0</td>\n",
       "      <td>2.0</td>\n",
       "      <td>1.0</td>\n",
       "      <td>1.0</td>\n",
       "      <td>...</td>\n",
       "      <td>0.0</td>\n",
       "      <td>2.0</td>\n",
       "      <td>0.0</td>\n",
       "      <td>0.0</td>\n",
       "      <td>0.0</td>\n",
       "      <td>0.0</td>\n",
       "      <td>0.971733</td>\n",
       "      <td>5.0</td>\n",
       "      <td>6.0</td>\n",
       "      <td>0.0</td>\n",
       "    </tr>\n",
       "    <tr>\n",
       "      <th>115805</th>\n",
       "      <td>0.0</td>\n",
       "      <td>0.0</td>\n",
       "      <td>0.0</td>\n",
       "      <td>1.0</td>\n",
       "      <td>33.0</td>\n",
       "      <td>0.0</td>\n",
       "      <td>0.0</td>\n",
       "      <td>0.0</td>\n",
       "      <td>1.0</td>\n",
       "      <td>1.0</td>\n",
       "      <td>...</td>\n",
       "      <td>0.0</td>\n",
       "      <td>5.0</td>\n",
       "      <td>5.0</td>\n",
       "      <td>28.0</td>\n",
       "      <td>1.0</td>\n",
       "      <td>0.0</td>\n",
       "      <td>0.644317</td>\n",
       "      <td>6.0</td>\n",
       "      <td>8.0</td>\n",
       "      <td>0.0</td>\n",
       "    </tr>\n",
       "    <tr>\n",
       "      <th>138384</th>\n",
       "      <td>0.0</td>\n",
       "      <td>0.0</td>\n",
       "      <td>0.0</td>\n",
       "      <td>0.0</td>\n",
       "      <td>26.0</td>\n",
       "      <td>0.0</td>\n",
       "      <td>0.0</td>\n",
       "      <td>0.0</td>\n",
       "      <td>1.0</td>\n",
       "      <td>1.0</td>\n",
       "      <td>...</td>\n",
       "      <td>0.0</td>\n",
       "      <td>1.0</td>\n",
       "      <td>0.0</td>\n",
       "      <td>0.0</td>\n",
       "      <td>0.0</td>\n",
       "      <td>1.0</td>\n",
       "      <td>-0.337933</td>\n",
       "      <td>6.0</td>\n",
       "      <td>6.0</td>\n",
       "      <td>0.0</td>\n",
       "    </tr>\n",
       "    <tr>\n",
       "      <th>25132</th>\n",
       "      <td>0.0</td>\n",
       "      <td>0.0</td>\n",
       "      <td>0.0</td>\n",
       "      <td>1.0</td>\n",
       "      <td>29.0</td>\n",
       "      <td>1.0</td>\n",
       "      <td>0.0</td>\n",
       "      <td>0.0</td>\n",
       "      <td>1.0</td>\n",
       "      <td>1.0</td>\n",
       "      <td>...</td>\n",
       "      <td>0.0</td>\n",
       "      <td>3.0</td>\n",
       "      <td>0.0</td>\n",
       "      <td>0.0</td>\n",
       "      <td>0.0</td>\n",
       "      <td>0.0</td>\n",
       "      <td>-1.320182</td>\n",
       "      <td>3.0</td>\n",
       "      <td>4.0</td>\n",
       "      <td>0.0</td>\n",
       "    </tr>\n",
       "    <tr>\n",
       "      <th>54626</th>\n",
       "      <td>0.0</td>\n",
       "      <td>0.0</td>\n",
       "      <td>0.0</td>\n",
       "      <td>0.0</td>\n",
       "      <td>23.0</td>\n",
       "      <td>0.0</td>\n",
       "      <td>0.0</td>\n",
       "      <td>0.0</td>\n",
       "      <td>0.0</td>\n",
       "      <td>0.0</td>\n",
       "      <td>...</td>\n",
       "      <td>0.0</td>\n",
       "      <td>3.0</td>\n",
       "      <td>0.0</td>\n",
       "      <td>0.0</td>\n",
       "      <td>0.0</td>\n",
       "      <td>1.0</td>\n",
       "      <td>-0.010516</td>\n",
       "      <td>4.0</td>\n",
       "      <td>8.0</td>\n",
       "      <td>0.0</td>\n",
       "    </tr>\n",
       "  </tbody>\n",
       "</table>\n",
       "<p>5 rows × 23 columns</p>\n",
       "</div>"
      ],
      "text/plain": [
       "        HeartDiseaseorAttack  HighBP  HighChol  CholCheck   BMI  Smoker  \\\n",
       "176010                   0.0     0.0       0.0        1.0  29.0     1.0   \n",
       "115805                   0.0     0.0       0.0        1.0  33.0     0.0   \n",
       "138384                   0.0     0.0       0.0        0.0  26.0     0.0   \n",
       "25132                    0.0     0.0       0.0        1.0  29.0     1.0   \n",
       "54626                    0.0     0.0       0.0        0.0  23.0     0.0   \n",
       "\n",
       "        Stroke  Diabetes  PhysActivity  Fruits  ...  NoDocbcCost  GenHlth  \\\n",
       "176010     0.0       2.0           1.0     1.0  ...          0.0      2.0   \n",
       "115805     0.0       0.0           1.0     1.0  ...          0.0      5.0   \n",
       "138384     0.0       0.0           1.0     1.0  ...          0.0      1.0   \n",
       "25132      0.0       0.0           1.0     1.0  ...          0.0      3.0   \n",
       "54626      0.0       0.0           0.0     0.0  ...          0.0      3.0   \n",
       "\n",
       "        MentHlth  PhysHlth  DiffWalk  Sex       Age  Education  Income  \\\n",
       "176010       0.0       0.0       0.0  0.0  0.971733        5.0     6.0   \n",
       "115805       5.0      28.0       1.0  0.0  0.644317        6.0     8.0   \n",
       "138384       0.0       0.0       0.0  1.0 -0.337933        6.0     6.0   \n",
       "25132        0.0       0.0       0.0  0.0 -1.320182        3.0     4.0   \n",
       "54626        0.0       0.0       0.0  1.0 -0.010516        4.0     8.0   \n",
       "\n",
       "        HeartDiseaseorAttack  \n",
       "176010                   0.0  \n",
       "115805                   0.0  \n",
       "138384                   0.0  \n",
       "25132                    0.0  \n",
       "54626                    0.0  \n",
       "\n",
       "[5 rows x 23 columns]"
      ]
     },
     "execution_count": 357,
     "metadata": {},
     "output_type": "execute_result"
    }
   ],
   "source": [
    "train_df[:5]"
   ]
  },
  {
   "cell_type": "code",
   "execution_count": 358,
   "metadata": {},
   "outputs": [
    {
     "data": {
      "text/html": [
       "<div>\n",
       "<style scoped>\n",
       "    .dataframe tbody tr th:only-of-type {\n",
       "        vertical-align: middle;\n",
       "    }\n",
       "\n",
       "    .dataframe tbody tr th {\n",
       "        vertical-align: top;\n",
       "    }\n",
       "\n",
       "    .dataframe thead th {\n",
       "        text-align: right;\n",
       "    }\n",
       "</style>\n",
       "<table border=\"1\" class=\"dataframe\">\n",
       "  <thead>\n",
       "    <tr style=\"text-align: right;\">\n",
       "      <th></th>\n",
       "      <th>HeartDiseaseorAttack</th>\n",
       "      <th>HighBP</th>\n",
       "      <th>HighChol</th>\n",
       "      <th>CholCheck</th>\n",
       "      <th>BMI</th>\n",
       "      <th>Smoker</th>\n",
       "      <th>Stroke</th>\n",
       "      <th>Diabetes</th>\n",
       "      <th>PhysActivity</th>\n",
       "      <th>Fruits</th>\n",
       "      <th>...</th>\n",
       "      <th>NoDocbcCost</th>\n",
       "      <th>GenHlth</th>\n",
       "      <th>MentHlth</th>\n",
       "      <th>PhysHlth</th>\n",
       "      <th>DiffWalk</th>\n",
       "      <th>Sex</th>\n",
       "      <th>Age</th>\n",
       "      <th>Education</th>\n",
       "      <th>Income</th>\n",
       "      <th>HeartDiseaseorAttack</th>\n",
       "    </tr>\n",
       "  </thead>\n",
       "  <tbody>\n",
       "    <tr>\n",
       "      <th>104485</th>\n",
       "      <td>0.0</td>\n",
       "      <td>0.0</td>\n",
       "      <td>0.0</td>\n",
       "      <td>0.0</td>\n",
       "      <td>24.0</td>\n",
       "      <td>1.0</td>\n",
       "      <td>0.0</td>\n",
       "      <td>0.0</td>\n",
       "      <td>1.0</td>\n",
       "      <td>1.0</td>\n",
       "      <td>...</td>\n",
       "      <td>0.0</td>\n",
       "      <td>1.0</td>\n",
       "      <td>3.0</td>\n",
       "      <td>3.0</td>\n",
       "      <td>0.0</td>\n",
       "      <td>0.0</td>\n",
       "      <td>-1.320182</td>\n",
       "      <td>6.0</td>\n",
       "      <td>8.0</td>\n",
       "      <td>0.0</td>\n",
       "    </tr>\n",
       "    <tr>\n",
       "      <th>191867</th>\n",
       "      <td>0.0</td>\n",
       "      <td>1.0</td>\n",
       "      <td>0.0</td>\n",
       "      <td>1.0</td>\n",
       "      <td>24.0</td>\n",
       "      <td>1.0</td>\n",
       "      <td>0.0</td>\n",
       "      <td>0.0</td>\n",
       "      <td>1.0</td>\n",
       "      <td>0.0</td>\n",
       "      <td>...</td>\n",
       "      <td>1.0</td>\n",
       "      <td>3.0</td>\n",
       "      <td>0.0</td>\n",
       "      <td>0.0</td>\n",
       "      <td>0.0</td>\n",
       "      <td>1.0</td>\n",
       "      <td>0.316900</td>\n",
       "      <td>4.0</td>\n",
       "      <td>7.0</td>\n",
       "      <td>0.0</td>\n",
       "    </tr>\n",
       "    <tr>\n",
       "      <th>104054</th>\n",
       "      <td>0.0</td>\n",
       "      <td>0.0</td>\n",
       "      <td>0.0</td>\n",
       "      <td>1.0</td>\n",
       "      <td>24.0</td>\n",
       "      <td>0.0</td>\n",
       "      <td>0.0</td>\n",
       "      <td>0.0</td>\n",
       "      <td>1.0</td>\n",
       "      <td>1.0</td>\n",
       "      <td>...</td>\n",
       "      <td>0.0</td>\n",
       "      <td>1.0</td>\n",
       "      <td>15.0</td>\n",
       "      <td>0.0</td>\n",
       "      <td>0.0</td>\n",
       "      <td>0.0</td>\n",
       "      <td>-1.647599</td>\n",
       "      <td>6.0</td>\n",
       "      <td>7.0</td>\n",
       "      <td>0.0</td>\n",
       "    </tr>\n",
       "    <tr>\n",
       "      <th>227475</th>\n",
       "      <td>0.0</td>\n",
       "      <td>1.0</td>\n",
       "      <td>1.0</td>\n",
       "      <td>1.0</td>\n",
       "      <td>38.0</td>\n",
       "      <td>1.0</td>\n",
       "      <td>0.0</td>\n",
       "      <td>2.0</td>\n",
       "      <td>1.0</td>\n",
       "      <td>1.0</td>\n",
       "      <td>...</td>\n",
       "      <td>0.0</td>\n",
       "      <td>4.0</td>\n",
       "      <td>0.0</td>\n",
       "      <td>0.0</td>\n",
       "      <td>0.0</td>\n",
       "      <td>1.0</td>\n",
       "      <td>0.644317</td>\n",
       "      <td>5.0</td>\n",
       "      <td>7.0</td>\n",
       "      <td>0.0</td>\n",
       "    </tr>\n",
       "    <tr>\n",
       "      <th>180708</th>\n",
       "      <td>0.0</td>\n",
       "      <td>1.0</td>\n",
       "      <td>0.0</td>\n",
       "      <td>1.0</td>\n",
       "      <td>33.0</td>\n",
       "      <td>0.0</td>\n",
       "      <td>0.0</td>\n",
       "      <td>0.0</td>\n",
       "      <td>1.0</td>\n",
       "      <td>0.0</td>\n",
       "      <td>...</td>\n",
       "      <td>0.0</td>\n",
       "      <td>2.0</td>\n",
       "      <td>0.0</td>\n",
       "      <td>0.0</td>\n",
       "      <td>0.0</td>\n",
       "      <td>0.0</td>\n",
       "      <td>-0.010516</td>\n",
       "      <td>4.0</td>\n",
       "      <td>6.0</td>\n",
       "      <td>0.0</td>\n",
       "    </tr>\n",
       "  </tbody>\n",
       "</table>\n",
       "<p>5 rows × 23 columns</p>\n",
       "</div>"
      ],
      "text/plain": [
       "        HeartDiseaseorAttack  HighBP  HighChol  CholCheck   BMI  Smoker  \\\n",
       "104485                   0.0     0.0       0.0        0.0  24.0     1.0   \n",
       "191867                   0.0     1.0       0.0        1.0  24.0     1.0   \n",
       "104054                   0.0     0.0       0.0        1.0  24.0     0.0   \n",
       "227475                   0.0     1.0       1.0        1.0  38.0     1.0   \n",
       "180708                   0.0     1.0       0.0        1.0  33.0     0.0   \n",
       "\n",
       "        Stroke  Diabetes  PhysActivity  Fruits  ...  NoDocbcCost  GenHlth  \\\n",
       "104485     0.0       0.0           1.0     1.0  ...          0.0      1.0   \n",
       "191867     0.0       0.0           1.0     0.0  ...          1.0      3.0   \n",
       "104054     0.0       0.0           1.0     1.0  ...          0.0      1.0   \n",
       "227475     0.0       2.0           1.0     1.0  ...          0.0      4.0   \n",
       "180708     0.0       0.0           1.0     0.0  ...          0.0      2.0   \n",
       "\n",
       "        MentHlth  PhysHlth  DiffWalk  Sex       Age  Education  Income  \\\n",
       "104485       3.0       3.0       0.0  0.0 -1.320182        6.0     8.0   \n",
       "191867       0.0       0.0       0.0  1.0  0.316900        4.0     7.0   \n",
       "104054      15.0       0.0       0.0  0.0 -1.647599        6.0     7.0   \n",
       "227475       0.0       0.0       0.0  1.0  0.644317        5.0     7.0   \n",
       "180708       0.0       0.0       0.0  0.0 -0.010516        4.0     6.0   \n",
       "\n",
       "        HeartDiseaseorAttack  \n",
       "104485                   0.0  \n",
       "191867                   0.0  \n",
       "104054                   0.0  \n",
       "227475                   0.0  \n",
       "180708                   0.0  \n",
       "\n",
       "[5 rows x 23 columns]"
      ]
     },
     "execution_count": 358,
     "metadata": {},
     "output_type": "execute_result"
    }
   ],
   "source": [
    "test_df[:5]"
   ]
  },
  {
   "cell_type": "code",
   "execution_count": 359,
   "metadata": {},
   "outputs": [],
   "source": [
    "train_df.to_csv('train.csv')\n",
    "test_df.to_csv('test.csv')"
   ]
  },
  {
   "cell_type": "code",
   "execution_count": 360,
   "metadata": {},
   "outputs": [],
   "source": [
    "## convert dataframes to numpy array\n",
    "X_train=train_df.iloc[:,[0,1,2]].to_numpy()\n",
    "y_train=train_df.iloc[:,3].to_numpy()\n",
    "X_test=test_df.iloc[:,[0,1,2]].to_numpy()\n",
    "y_test=test_df.iloc[:,3].to_numpy()"
   ]
  },
  {
   "cell_type": "markdown",
   "metadata": {},
   "source": [
    "tr"
   ]
  },
  {
   "cell_type": "code",
   "execution_count": 361,
   "metadata": {},
   "outputs": [
    {
     "name": "stdout",
     "output_type": "stream",
     "text": [
      "<class 'numpy.ndarray'>\n",
      "(228312, 3)\n"
     ]
    }
   ],
   "source": [
    "print(type(X_train))\n",
    "print(X_train.shape)"
   ]
  },
  {
   "cell_type": "code",
   "execution_count": 362,
   "metadata": {},
   "outputs": [
    {
     "name": "stdout",
     "output_type": "stream",
     "text": [
      "<class 'numpy.ndarray'>\n",
      "(228312,)\n"
     ]
    }
   ],
   "source": [
    "print(type(y_train))\n",
    "print(y_train.shape)"
   ]
  },
  {
   "cell_type": "markdown",
   "metadata": {},
   "source": [
    "### Task 2: Sigmoid Activation"
   ]
  },
  {
   "cell_type": "code",
   "execution_count": 6,
   "metadata": {},
   "outputs": [],
   "source": [
    "def sigmoid(z):\n",
    "    ''' \n",
    "    args:\n",
    "     z - scalar or numpy array (m,) \n",
    "\n",
    "    returns:\n",
    "     sigmoid - scalar or numpy array (m,)\n",
    "    '''\n",
    "    z = np.clip(z, -500, 500)  # Prevent overflow\n",
    "    return 1/(1 + np.exp(-z))\n",
    "\n",
    "    "
   ]
  },
  {
   "cell_type": "code",
   "execution_count": 364,
   "metadata": {},
   "outputs": [
    {
     "name": "stdout",
     "output_type": "stream",
     "text": [
      "[0.5        0.73105858 0.88079708 0.95257413 0.98201379]\n"
     ]
    }
   ],
   "source": [
    "arr=np.arange(5)\n",
    "print(sigmoid(arr))"
   ]
  },
  {
   "cell_type": "markdown",
   "metadata": {},
   "source": [
    "### Task 3: Cost Function"
   ]
  },
  {
   "cell_type": "code",
   "execution_count": 5,
   "metadata": {},
   "outputs": [],
   "source": [
    "def cost_function(X,y,W):\n",
    "    ''' \n",
    "    args:\n",
    "    \n",
    "    - X all examples + bias term of shape (m,1+n)\n",
    "    - y target labels (m,1)\n",
    "    - W weight vector of shape (1+n,1)\n",
    "    \n",
    "    returns:\n",
    "    - loss (scalar)\n",
    "    '''\n",
    "\n",
    "    # Ensure W is a column vector\n",
    "    if W.shape[1] != 1:\n",
    "        W = W.reshape(-1, 1)\n",
    "        \n",
    "    z=X@W\n",
    "    f_x=sigmoid(z) # shape = (m,)\n",
    "\n",
    "    # Prevent log(0) errors\n",
    "    epsilon = 1e-9  \n",
    "    f_x = np.clip(f_x, epsilon, 1 - epsilon)  \n",
    "\n",
    "    cost=-y*np.log(f_x)-(1-y)*np.log(1-f_x)\n",
    "    cost=np.mean(cost)\n",
    "    return cost\n",
    "\n"
   ]
  },
  {
   "cell_type": "code",
   "execution_count": 372,
   "metadata": {},
   "outputs": [
    {
     "data": {
      "text/plain": [
       "18.430924039288303"
      ]
     },
     "execution_count": 372,
     "metadata": {},
     "output_type": "execute_result"
    }
   ],
   "source": [
    "cost_function(X_train,y_train,weights)"
   ]
  },
  {
   "cell_type": "markdown",
   "metadata": {},
   "source": [
    "### Task 4: Gradient Descent"
   ]
  },
  {
   "cell_type": "code",
   "execution_count": 9,
   "metadata": {},
   "outputs": [],
   "source": [
    "def compute_gradient(X,y,W):\n",
    "    '''\n",
    "    Calculates the gradient of cost wrt to each weight element\n",
    "\n",
    "    Args:\n",
    "    - X training examples (m,n+1)\n",
    "    - y lables (m,1)\n",
    "    - W (n+1,1)\n",
    "\n",
    "    returns:\n",
    "    - dj_dw shape (n+1,1) \n",
    "    '''\n",
    "    m=X.shape[0]\n",
    "    z=X@W\n",
    "    f_x=sigmoid(z) # (m,1)\n",
    "    loss=f_x-y\n",
    "    dj_dw=(loss.T @ X)*(1/m)\n",
    "    return dj_dw.T\n",
    "\n",
    "\n",
    "def gradient_descent(X,y,W,alpha,num_iters):\n",
    "    for i in range(num_iters):\n",
    "        dj_dw=compute_gradient(X,y,W)\n",
    "        W=W-alpha*dj_dw\n",
    "\n",
    "        \n",
    "    return W"
   ]
  },
  {
   "cell_type": "code",
   "execution_count": 381,
   "metadata": {},
   "outputs": [
    {
     "name": "stdout",
     "output_type": "stream",
     "text": [
      "cost at 1 iter: 0.05601737184405987\n",
      "cost at 11 iter: 0.028455134948220294\n",
      "cost at 21 iter: 0.028126264002194045\n",
      "cost at 31 iter: 0.02805803495284827\n",
      "cost at 41 iter: 0.02800225322008117\n",
      "cost at 51 iter: 0.02795223560793333\n",
      "cost at 61 iter: 0.027906205512389176\n",
      "cost at 71 iter: 0.027863037049547883\n",
      "cost at 81 iter: 0.02782197561038017\n",
      "cost at 91 iter: 0.027782504809890904\n",
      "cost at 101 iter: 0.027744263813047874\n",
      "cost at 111 iter: 0.027706995034950672\n",
      "cost at 121 iter: 0.027670510678055774\n",
      "cost at 131 iter: 0.027634671047201475\n",
      "cost at 141 iter: 0.027599370290818496\n",
      "cost at 151 iter: 0.02756452686937316\n",
      "cost at 161 iter: 0.027530077066381706\n",
      "cost at 171 iter: 0.027495970483012055\n",
      "cost at 181 iter: 0.027462166845191486\n",
      "cost at 191 iter: 0.027428633693902617\n",
      "cost at 201 iter: 0.027395344680918476\n",
      "cost at 211 iter: 0.02736227828790154\n",
      "cost at 221 iter: 0.027329416847672858\n",
      "cost at 231 iter: 0.02729674578557642\n",
      "cost at 241 iter: 0.02726425302429257\n",
      "cost at 251 iter: 0.02723192851221248\n",
      "cost at 261 iter: 0.02719976384670419\n",
      "cost at 271 iter: 0.027167751971247517\n",
      "cost at 281 iter: 0.027135886930727285\n",
      "cost at 291 iter: 0.027104163672941835\n",
      "cost at 301 iter: 0.02707257788710998\n",
      "cost at 311 iter: 0.027041125872171428\n",
      "cost at 321 iter: 0.027009804429189176\n",
      "cost at 331 iter: 0.026978610773318694\n",
      "cost at 341 iter: 0.026947542461704783\n",
      "cost at 351 iter: 0.026916597334371576\n",
      "cost at 361 iter: 0.02688577346572779\n",
      "cost at 371 iter: 0.026855069124755743\n",
      "cost at 381 iter: 0.02682448274231008\n",
      "cost at 391 iter: 0.026794012884242015\n",
      "cost at 401 iter: 0.026763658229299346\n",
      "cost at 411 iter: 0.026733417550943665\n",
      "cost at 421 iter: 0.026703289702381186\n",
      "cost at 431 iter: 0.026673273604231426\n",
      "cost at 441 iter: 0.0266433682343612\n",
      "cost at 451 iter: 0.026613572619496977\n",
      "cost at 461 iter: 0.026583885828297554\n",
      "cost at 471 iter: 0.02655430696562685\n",
      "cost at 481 iter: 0.02652483516781265\n",
      "cost at 491 iter: 0.026495469598716063\n",
      "cost at 501 iter: 0.026466209446467295\n",
      "cost at 511 iter: 0.02643705392074989\n",
      "cost at 521 iter: 0.026408002250535818\n",
      "cost at 531 iter: 0.02637905368219214\n",
      "cost at 541 iter: 0.0263502074778935\n",
      "cost at 551 iter: 0.02632146291428655\n",
      "cost at 561 iter: 0.026292819281362456\n",
      "cost at 571 iter: 0.02626427588150078\n",
      "cost at 581 iter: 0.02623583202865512\n",
      "cost at 591 iter: 0.026207487047655912\n",
      "cost at 601 iter: 0.026179240273610217\n",
      "cost at 611 iter: 0.026151091051381855\n",
      "cost at 621 iter: 0.026123038735138333\n",
      "cost at 631 iter: 0.02609508268795319\n",
      "cost at 641 iter: 0.026067222281454742\n",
      "cost at 651 iter: 0.02603945689551323\n",
      "cost at 661 iter: 0.0260117859179605\n",
      "cost at 671 iter: 0.02598420874433684\n",
      "cost at 681 iter: 0.02595672477766067\n",
      "cost at 691 iter: 0.02592933342821761\n",
      "cost at 701 iter: 0.025902034113366036\n",
      "cost at 711 iter: 0.025874826257356737\n",
      "cost at 721 iter: 0.025847709291164516\n",
      "cost at 731 iter: 0.025820682652330368\n",
      "cost at 741 iter: 0.025793745784812437\n",
      "cost at 751 iter: 0.02576689813884516\n",
      "cost at 761 iter: 0.02574013917080503\n",
      "cost at 771 iter: 0.025713468343082864\n",
      "cost at 781 iter: 0.025686885123961167\n",
      "cost at 791 iter: 0.025660388987496667\n",
      "cost at 801 iter: 0.025633979413407143\n",
      "cost at 811 iter: 0.025607655886962476\n",
      "cost at 821 iter: 0.025581417898879143\n",
      "cost at 831 iter: 0.025555264945218394\n",
      "cost at 841 iter: 0.025529196527287423\n",
      "cost at 851 iter: 0.025503212151543525\n",
      "cost at 861 iter: 0.02547731132950112\n",
      "cost at 871 iter: 0.02545149357764123\n",
      "cost at 881 iter: 0.025425758417323627\n",
      "cost at 891 iter: 0.02540010537470105\n",
      "cost at 901 iter: 0.02537453398063592\n",
      "cost at 911 iter: 0.02534904377061914\n",
      "cost at 921 iter: 0.025323634284690776\n",
      "cost at 931 iter: 0.025298305067362848\n",
      "cost at 941 iter: 0.02527305566754401\n",
      "cost at 951 iter: 0.025247885638465976\n",
      "cost at 961 iter: 0.02522279453761176\n",
      "cost at 971 iter: 0.025197781926645648\n",
      "cost at 981 iter: 0.025172847371344714\n",
      "cost at 991 iter: 0.02514799044153203\n"
     ]
    }
   ],
   "source": [
    "weights=gradient_descent(X_train,y_train,weights,0.01,1000)"
   ]
  },
  {
   "cell_type": "code",
   "execution_count": 7,
   "metadata": {},
   "outputs": [
    {
     "name": "stdout",
     "output_type": "stream",
     "text": [
      "(23, 1)\n",
      "(25368, 23)\n",
      "(228312, 23)\n",
      "(25368, 1)\n",
      "(228312, 1)\n"
     ]
    }
   ],
   "source": [
    "# read csv\n",
    "train_df=pd.read_csv('train.csv')\n",
    "test_df=pd.read_csv('test.csv')\n",
    "\n",
    "\n",
    "## convert dataframes to numpy array\n",
    "X_train=train_df.iloc[:,1:-1].to_numpy()\n",
    "y_train=train_df.iloc[:,-1].to_numpy()\n",
    "X_test=test_df.iloc[:,1:-1].to_numpy()\n",
    "y_test=test_df.iloc[:,-1].to_numpy()\n",
    "\n",
    "# concatenate bias term in X_train and X_test\n",
    "ones=np.ones((X_train.shape[0],1)) # col of ones\n",
    "X_train=np.hstack((ones,X_train))\n",
    "\n",
    "ones=np.ones((X_test.shape[0],1))\n",
    "X_test=np.hstack((ones,X_test))\n",
    "\n",
    "# initialize weights\n",
    "weights=np.random.randn(X_train.shape[1])\n",
    "weights=weights.reshape(-1,1)\n",
    "print(weights.shape)\n",
    "print(X_test.shape)\n",
    "print(X_train.shape)\n",
    "\n",
    "y_test=y_test.reshape((-1,1))\n",
    "y_train=y_train.reshape((-1,1))\n",
    "print(y_test.shape)\n",
    "print(y_train.shape)"
   ]
  },
  {
   "cell_type": "markdown",
   "metadata": {},
   "source": [
    "### Task 5: Training and Validation Implementation"
   ]
  },
  {
   "cell_type": "code",
   "execution_count": 10,
   "metadata": {},
   "outputs": [
    {
     "name": "stdout",
     "output_type": "stream",
     "text": [
      "Training with alpha = 0.001\n",
      "Epoch 0: Train Loss = 1.6903742747296049, Val Loss = 1.7156980995444078, Precision = 0.04653349001174723, Recall = 0.24504950495039396\n",
      "Epoch 10: Train Loss = 1.1164165792813927, Val Loss = 1.1370647955737785, Precision = 0.03223593964333968, Recall = 0.05816831683165917\n",
      "Epoch 20: Train Loss = 1.030232142414035, Val Loss = 1.0495464621136485, Precision = 0.032206119162623614, Recall = 0.02475247524751454\n",
      "Epoch 30: Train Loss = 1.007229542018924, Val Loss = 1.0261413597621187, Precision = 0.03637901861249037, Recall = 0.017739273927385422\n",
      "Epoch 40: Train Loss = 0.9966770992704052, Val Loss = 1.0153565292527964, Precision = 0.03628601921020674, Recall = 0.01402640264025824\n",
      "Epoch 50: Train Loss = 0.9895226439560818, Val Loss = 1.0080026451674675, Precision = 0.0353227771010532, Recall = 0.011963696369632027\n",
      "Epoch 60: Train Loss = 0.9835015820661445, Val Loss = 1.00179265250686, Precision = 0.035386631716860566, Recall = 0.011138613861381543\n",
      "Epoch 70: Train Loss = 0.9779141687801366, Val Loss = 0.9960325557534884, Precision = 0.034899328859013555, Recall = 0.0107260726072563\n",
      "Epoch 80: Train Loss = 0.9725051887553643, Val Loss = 0.9904733024375392, Precision = 0.0343878954607505, Recall = 0.010313531353131058\n",
      "Epoch 90: Train Loss = 0.967163776695736, Val Loss = 0.9849945765535679, Precision = 0.034674063800229304, Recall = 0.010313531353131058\n",
      "Training with alpha = 0.01\n",
      "Epoch 0: Train Loss = 1.9433328663845335, Val Loss = 1.9728910007596643, Precision = 0.0, Recall = 0.0\n",
      "Epoch 10: Train Loss = 1.9072088909795777, Val Loss = 1.934033131610429, Precision = 0.499999999875, Recall = 0.0008250825082504847\n",
      "Epoch 20: Train Loss = 1.8033898534210073, Val Loss = 1.8294810741667098, Precision = 0.18181818181726356, Recall = 0.014851485148508725\n",
      "Epoch 30: Train Loss = 1.7335705812605662, Val Loss = 1.7590708417561611, Precision = 0.17951425554363304, Recall = 0.0701320132012912\n",
      "Epoch 40: Train Loss = 1.5791018563271733, Val Loss = 1.6047269026563007, Precision = 0.1780821917806864, Recall = 0.09653465346530671\n",
      "Epoch 50: Train Loss = 1.349034953660495, Val Loss = 1.364843509995196, Precision = 0.17219917012436226, Recall = 0.10272277227718535\n",
      "Epoch 60: Train Loss = 1.1419033339281628, Val Loss = 1.1511827622501627, Precision = 0.16698779704549327, Recall = 0.10726072607256301\n",
      "Epoch 70: Train Loss = 0.9903455538049744, Val Loss = 0.9961832004182455, Precision = 0.17273869346722817, Recall = 0.11344884488444165\n",
      "Epoch 80: Train Loss = 0.8886933838108473, Val Loss = 0.8926496125192898, Precision = 0.17213622291011013, Recall = 0.11468646864681738\n",
      "Epoch 90: Train Loss = 0.8227439376718405, Val Loss = 0.8252776830600679, Precision = 0.17489069331656784, Recall = 0.11551155115506787\n",
      "Training with alpha = 0.1\n",
      "Epoch 0: Train Loss = 1.4386380313665657, Val Loss = 1.4770195897827052, Precision = 0.23368074602291075, Recall = 0.17574257425735323\n",
      "Epoch 10: Train Loss = 1.6111269824444228, Val Loss = 1.6073571676693088, Precision = 0.10894632206758824, Recall = 0.7912541254122148\n",
      "Epoch 20: Train Loss = 1.948683356373057, Val Loss = 1.9801796125710383, Precision = 0.0, Recall = 0.0\n",
      "Epoch 30: Train Loss = 1.5477944727756883, Val Loss = 1.5845120828258124, Precision = 0.0, Recall = 0.0\n",
      "Epoch 40: Train Loss = 1.1047994028707362, Val Loss = 1.1010032898738882, Precision = 0.14755892255891012, Recall = 0.7231848184815498\n",
      "Epoch 50: Train Loss = 0.5101149045871679, Val Loss = 0.5253464339670771, Precision = 0.2906976744152244, Recall = 0.010313531353131058\n",
      "Epoch 60: Train Loss = 0.45982652182634315, Val Loss = 0.47517936152555024, Precision = 0.3188010899173875, Recall = 0.048267326732653354\n",
      "Epoch 70: Train Loss = 0.5183481641775898, Val Loss = 0.5191110994425284, Precision = 0.21696948315395712, Recall = 0.507425742574048\n",
      "Epoch 80: Train Loss = 1.947710686071469, Val Loss = 1.979370057713312, Precision = 0.0, Recall = 0.0\n",
      "Epoch 90: Train Loss = 1.422570568629544, Val Loss = 1.4600412030317114, Precision = 0.0, Recall = 0.0\n",
      "Training with alpha = 0.5\n",
      "Epoch 0: Train Loss = 18.752076976606197, Val Loss = 18.72088002098387, Precision = 0.09555345316934344, Recall = 0.9999999999995874\n",
      "Epoch 10: Train Loss = 1.8676720167750416, Val Loss = 1.9039857245943275, Precision = 0.39999999992, Recall = 0.0008250825082504847\n",
      "Epoch 20: Train Loss = 1.948683356373057, Val Loss = 1.9801796125710383, Precision = 0.0, Recall = 0.0\n",
      "Epoch 30: Train Loss = 1.928124013109154, Val Loss = 1.9635662980187722, Precision = 0.3333333332222222, Recall = 0.0004125412541252423\n",
      "Epoch 40: Train Loss = 9.765954345481994, Val Loss = 9.749772977216207, Precision = 0.09703255776700584, Recall = 0.9995874587454622\n",
      "Epoch 50: Train Loss = 1.7068407878766163, Val Loss = 1.7418612019273505, Precision = 0.3071065989839921, Recall = 0.04991749174915432\n",
      "Epoch 60: Train Loss = 1.948683356373057, Val Loss = 1.9801796125710383, Precision = 0.0, Recall = 0.0\n",
      "Epoch 70: Train Loss = 1.9391602953679827, Val Loss = 1.9710101331846552, Precision = 0.0, Recall = 0.0\n",
      "Epoch 80: Train Loss = 1.9468319826140126, Val Loss = 1.9789160399818229, Precision = 0.0, Recall = 0.0\n",
      "Epoch 90: Train Loss = 1.948683356373057, Val Loss = 1.9801796125710383, Precision = 0.0, Recall = 0.0\n",
      "Best alpha: 0.01\n"
     ]
    },
    {
     "data": {
      "image/png": "[encoded data removed]",
      "text/plain": [
       "<Figure size 1000x500 with 1 Axes>"
      ]
     },
     "metadata": {},
     "output_type": "display_data"
    },
    {
     "data": {
      "image/png": "[encoded data removed]",
      "text/plain": [
       "<Figure size 1000x500 with 1 Axes>"
      ]
     },
     "metadata": {},
     "output_type": "display_data"
    },
    {
     "data": {
      "image/png": "[encoded data removed]",
      "text/plain": [
       "<Figure size 600x600 with 1 Axes>"
      ]
     },
     "metadata": {},
     "output_type": "display_data"
    }
   ],
   "source": [
    "import numpy as np\n",
    "import pandas as pd\n",
    "import matplotlib.pyplot as plt\n",
    "\n",
    "def compute_metrics(y_true, y_pred):\n",
    "    y_pred_binary = (y_pred >= 0.5).astype(int)  # Convert probabilities to binary labels\n",
    "    TP = np.sum((y_pred_binary == 1) & (y_true == 1))\n",
    "    FP = np.sum((y_pred_binary == 1) & (y_true == 0))\n",
    "    FN = np.sum((y_pred_binary == 0) & (y_true == 1))\n",
    "    \n",
    "    precision = TP / (TP + FP + 1e-9)  # Avoid division by zero\n",
    "    recall = TP / (TP + FN + 1e-9)\n",
    "    \n",
    "    return precision, recall\n",
    "\n",
    "# Hyperparameters\n",
    "alpha_values = [0.001, 0.01, 0.1, 0.5]  # Learning rates to test\n",
    "epochs = 100\n",
    "\n",
    "# Lists to store results\n",
    "best_alpha = None\n",
    "best_val_loss = float('inf')\n",
    "best_training_loss = []\n",
    "best_validation_loss = []\n",
    "best_precision = []\n",
    "best_recall = []\n",
    "\n",
    "for alpha in alpha_values:\n",
    "    print(f\"Training with alpha = {alpha}\")\n",
    "    \n",
    "    # Initialize weights\n",
    "    W = np.random.randn(X_train.shape[1], 1)\n",
    "    \n",
    "    training_loss = []\n",
    "    validation_loss = []\n",
    "    precision_values = []\n",
    "    recall_values = []\n",
    "    \n",
    "    for epoch in range(epochs):\n",
    "        # Training Step\n",
    "        W = gradient_descent(X_train, y_train, W, alpha, num_iters=1)\n",
    "        train_loss = cost_function(X_train, y_train, W)\n",
    "        val_loss = cost_function(X_test, y_test, W)\n",
    "        \n",
    "        # Compute Precision and Recall\n",
    "        y_pred_train = sigmoid(X_train @ W)\n",
    "        y_pred_val = sigmoid(X_test @ W)\n",
    "        precision, recall = compute_metrics(y_test, y_pred_val)\n",
    "        \n",
    "        # Store results\n",
    "        training_loss.append(train_loss)\n",
    "        validation_loss.append(val_loss)\n",
    "        precision_values.append(precision)\n",
    "        recall_values.append(recall)\n",
    "        \n",
    "        if epoch % 10 == 0:\n",
    "            print(f\"Epoch {epoch}: Train Loss = {train_loss}, Val Loss = {val_loss}, Precision = {precision}, Recall = {recall}\")\n",
    "    \n",
    "    # Select best alpha based on validation loss\n",
    "    if val_loss < best_val_loss:\n",
    "        best_val_loss = val_loss\n",
    "        best_alpha = alpha\n",
    "        best_training_loss = training_loss\n",
    "        best_validation_loss = validation_loss\n",
    "        best_precision = precision_values\n",
    "        best_recall = recall_values\n",
    "\n",
    "print(f\"Best alpha: {best_alpha}\")\n",
    "\n",
    "# Plot 1: Training and Validation Loss vs. Epochs\n",
    "plt.figure(figsize=(10,5))\n",
    "plt.plot(range(epochs), best_training_loss, label='Training Loss', color='blue')\n",
    "plt.plot(range(epochs), best_validation_loss, label='Validation Loss', color='red')\n",
    "plt.xlabel('Epochs')\n",
    "plt.ylabel('Loss')\n",
    "plt.title('Training and Validation Loss vs. Epochs')\n",
    "plt.legend()\n",
    "plt.show()\n",
    "\n",
    "# Plot 2: Precision and Recall vs. Epochs\n",
    "plt.figure(figsize=(10,5))\n",
    "plt.plot(range(epochs), best_precision, label='Precision', color='green')\n",
    "plt.plot(range(epochs), best_recall, label='Recall', color='purple')\n",
    "plt.xlabel('Epochs')\n",
    "plt.ylabel('Precision/Recall')\n",
    "plt.title('Precision and Recall vs. Epochs')\n",
    "plt.legend()\n",
    "plt.show()\n",
    "\n",
    "# Plot 3: Precision vs. Recall\n",
    "plt.figure(figsize=(6,6))\n",
    "plt.plot(best_recall, best_precision, marker='o', linestyle='-')\n",
    "plt.xlabel('Recall')\n",
    "plt.ylabel('Precision')\n",
    "plt.title('Precision vs. Recall')\n",
    "plt.show()\n"
   ]
  },
  {
   "cell_type": "markdown",
   "metadata": {},
   "source": [
    "### Task 6: Prediction and Scatter Plot"
   ]
  },
  {
   "cell_type": "code",
   "execution_count": 11,
   "metadata": {},
   "outputs": [
    {
     "name": "stdout",
     "output_type": "stream",
     "text": [
      "Predictions: [1 1 1]\n"
     ]
    }
   ],
   "source": [
    "import numpy as np\n",
    "\n",
    "def predict(X, W):\n",
    "    \"\"\"\n",
    "    Predict the class label (0 or 1) based on the learned weights.\n",
    "    \n",
    "    Args:\n",
    "    - X: Input feature vector of shape (m, n+1) (including bias term)\n",
    "    - W: Trained weight vector of shape (n+1, 1)\n",
    "    \n",
    "    Returns:\n",
    "    - Predicted labels (m, 1), either 0 or 1\n",
    "    \"\"\"\n",
    "    probabilities = sigmoid(X @ W)  # Get probabilities using sigmoid function\n",
    "    return (probabilities >= 0.5).astype(int)  # Convert to 0 or 1 based on threshold\n",
    "\n",
    "# Example test cases (randomly chosen rows from X_test)\n",
    "sample_inputs = X_test[:3]  # Select first 3 test samples\n",
    "predictions = predict(sample_inputs, weights)  # Use trained weights for prediction\n",
    "\n",
    "print(\"Predictions:\", predictions.flatten())  # Print predictions\n",
    "\n"
   ]
  },
  {
   "cell_type": "code",
   "execution_count": 12,
   "metadata": {},
   "outputs": [
    {
     "data": {
      "image/png": "[encoded data removed]",
      "text/plain": [
       "<Figure size 640x480 with 1 Axes>"
      ]
     },
     "metadata": {},
     "output_type": "display_data"
    }
   ],
   "source": [
    "# create a scatter plot\n",
    "import matplotlib.pyplot as plt\n",
    "\n",
    "# Select two features for 2D visualization (e.g., first two columns)\n",
    "X_train_plot = X_train[:, 1:3]  # Exclude bias term\n",
    "y_train_plot = y_train.flatten()\n",
    "\n",
    "X_test_plot = X_test[:, 1:3]\n",
    "y_test_pred = predict(X_test, weights).flatten()\n",
    "\n",
    "# Scatter plot for training data\n",
    "plt.scatter(X_train_plot[y_train_plot == 0, 0], X_train_plot[y_train_plot == 0, 1], \n",
    "            c='red', marker='o', label='Class 0 (Train)')\n",
    "plt.scatter(X_train_plot[y_train_plot == 1, 0], X_train_plot[y_train_plot == 1, 1], \n",
    "            c='blue', marker='x', label='Class 1 (Train)')\n",
    "\n",
    "# Scatter plot for predicted test data\n",
    "plt.scatter(X_test_plot[y_test_pred == 0, 0], X_test_plot[y_test_pred == 0, 1], \n",
    "            c='black', marker='o', label='Predicted 0 (Test)')\n",
    "plt.scatter(X_test_plot[y_test_pred == 1, 0], X_test_plot[y_test_pred == 1, 1], \n",
    "            c='black', marker='x', label='Predicted 1 (Test)')\n",
    "\n",
    "plt.xlabel(\"Feature 1\")\n",
    "plt.ylabel(\"Feature 2\")\n",
    "plt.title(\"Training and Predicted Test Data Scatter Plot\")\n",
    "plt.legend()\n",
    "plt.show()\n"
   ]
  }
 ],
 "metadata": {
  "kernelspec": {
   "display_name": "base",
   "language": "python",
   "name": "python3"
  },
  "language_info": {
   "codemirror_mode": {
    "name": "ipython",
    "version": 3
   },
   "file_extension": ".py",
   "mimetype": "text/x-python",
   "name": "python",
   "nbconvert_exporter": "python",
   "pygments_lexer": "ipython3",
   "version": "3.12.3"
  }
 },
 "nbformat": 4,
 "nbformat_minor": 2
}
