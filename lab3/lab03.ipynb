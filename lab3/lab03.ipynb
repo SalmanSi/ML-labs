{
 "cells": [
  {
   "cell_type": "markdown",
   "metadata": {},
   "source": [
    "### Lab Task 1 - Dataset Preparation, Feature Scaling"
   ]
  },
  {
   "cell_type": "code",
   "execution_count": 33,
   "metadata": {},
   "outputs": [],
   "source": [
    "import sklearn.datasets\n",
    "import pandas as pd\n",
    "import numpy as np"
   ]
  },
  {
   "cell_type": "code",
   "execution_count": 3,
   "metadata": {},
   "outputs": [
    {
     "name": "stdout",
     "output_type": "stream",
     "text": [
      "{'data': array([[   8.3252    ,   41.        ,    6.98412698, ...,    2.55555556,\n",
      "          37.88      , -122.23      ],\n",
      "       [   8.3014    ,   21.        ,    6.23813708, ...,    2.10984183,\n",
      "          37.86      , -122.22      ],\n",
      "       [   7.2574    ,   52.        ,    8.28813559, ...,    2.80225989,\n",
      "          37.85      , -122.24      ],\n",
      "       ...,\n",
      "       [   1.7       ,   17.        ,    5.20554273, ...,    2.3256351 ,\n",
      "          39.43      , -121.22      ],\n",
      "       [   1.8672    ,   18.        ,    5.32951289, ...,    2.12320917,\n",
      "          39.43      , -121.32      ],\n",
      "       [   2.3886    ,   16.        ,    5.25471698, ...,    2.61698113,\n",
      "          39.37      , -121.24      ]], shape=(20640, 8)), 'target': array([4.526, 3.585, 3.521, ..., 0.923, 0.847, 0.894], shape=(20640,)), 'frame': None, 'target_names': ['MedHouseVal'], 'feature_names': ['MedInc', 'HouseAge', 'AveRooms', 'AveBedrms', 'Population', 'AveOccup', 'Latitude', 'Longitude'], 'DESCR': '.. _california_housing_dataset:\\n\\nCalifornia Housing dataset\\n--------------------------\\n\\n**Data Set Characteristics:**\\n\\n:Number of Instances: 20640\\n\\n:Number of Attributes: 8 numeric, predictive attributes and the target\\n\\n:Attribute Information:\\n    - MedInc        median income in block group\\n    - HouseAge      median house age in block group\\n    - AveRooms      average number of rooms per household\\n    - AveBedrms     average number of bedrooms per household\\n    - Population    block group population\\n    - AveOccup      average number of household members\\n    - Latitude      block group latitude\\n    - Longitude     block group longitude\\n\\n:Missing Attribute Values: None\\n\\nThis dataset was obtained from the StatLib repository.\\nhttps://www.dcc.fc.up.pt/~ltorgo/Regression/cal_housing.html\\n\\nThe target variable is the median house value for California districts,\\nexpressed in hundreds of thousands of dollars ($100,000).\\n\\nThis dataset was derived from the 1990 U.S. census, using one row per census\\nblock group. A block group is the smallest geographical unit for which the U.S.\\nCensus Bureau publishes sample data (a block group typically has a population\\nof 600 to 3,000 people).\\n\\nA household is a group of people residing within a home. Since the average\\nnumber of rooms and bedrooms in this dataset are provided per household, these\\ncolumns may take surprisingly large values for block groups with few households\\nand many empty houses, such as vacation resorts.\\n\\nIt can be downloaded/loaded using the\\n:func:`sklearn.datasets.fetch_california_housing` function.\\n\\n.. rubric:: References\\n\\n- Pace, R. Kelley and Ronald Barry, Sparse Spatial Autoregressions,\\n  Statistics and Probability Letters, 33 (1997) 291-297\\n'}\n"
     ]
    }
   ],
   "source": [
    "data = sklearn.datasets.fetch_california_housing()\n",
    "print(data)\n"
   ]
  },
  {
   "cell_type": "code",
   "execution_count": 8,
   "metadata": {},
   "outputs": [
    {
     "data": {
      "text/plain": [
       "dict_keys(['data', 'target', 'frame', 'target_names', 'feature_names', 'DESCR'])"
      ]
     },
     "execution_count": 8,
     "metadata": {},
     "output_type": "execute_result"
    }
   ],
   "source": [
    "data.keys()"
   ]
  },
  {
   "cell_type": "code",
   "execution_count": 16,
   "metadata": {},
   "outputs": [
    {
     "data": {
      "text/plain": [
       "['MedInc',\n",
       " 'HouseAge',\n",
       " 'AveRooms',\n",
       " 'AveBedrms',\n",
       " 'Population',\n",
       " 'AveOccup',\n",
       " 'Latitude',\n",
       " 'Longitude']"
      ]
     },
     "execution_count": 16,
     "metadata": {},
     "output_type": "execute_result"
    }
   ],
   "source": [
    "data['feature_names']"
   ]
  },
  {
   "cell_type": "code",
   "execution_count": 17,
   "metadata": {},
   "outputs": [
    {
     "data": {
      "text/plain": [
       "['MedHouseVal']"
      ]
     },
     "execution_count": 17,
     "metadata": {},
     "output_type": "execute_result"
    }
   ],
   "source": [
    "data['target_names']"
   ]
  },
  {
   "cell_type": "code",
   "execution_count": 20,
   "metadata": {},
   "outputs": [
    {
     "data": {
      "text/plain": [
       "['MedInc', 'HouseAge', 'AveRooms']"
      ]
     },
     "execution_count": 20,
     "metadata": {},
     "output_type": "execute_result"
    }
   ],
   "source": [
    "new_data={}\n",
    "new_data['data']=data['data'][:,[0,1,2]]\n",
    "new_data['feature_names']=data['feature_names'][:3]\n",
    "new_data['feature_names']"
   ]
  },
  {
   "cell_type": "code",
   "execution_count": 22,
   "metadata": {},
   "outputs": [
    {
     "data": {
      "text/plain": [
       "['MedHouseVal']"
      ]
     },
     "execution_count": 22,
     "metadata": {},
     "output_type": "execute_result"
    }
   ],
   "source": [
    "new_data['target']=data['target']\n",
    "new_data['target_names']=data['target_names']\n",
    "new_data['target_names']"
   ]
  },
  {
   "cell_type": "code",
   "execution_count": 29,
   "metadata": {},
   "outputs": [
    {
     "data": {
      "text/plain": [
       "(20640, 8)"
      ]
     },
     "execution_count": 29,
     "metadata": {},
     "output_type": "execute_result"
    }
   ],
   "source": [
    "# Splitting dataset randomly\n",
    "data['data'].shape"
   ]
  },
  {
   "cell_type": "code",
   "execution_count": 37,
   "metadata": {},
   "outputs": [
    {
     "name": "stdout",
     "output_type": "stream",
     "text": [
      "[0, 1, 2, 3, 4]\n",
      "[18872  2691  8354 20278  4355]\n"
     ]
    }
   ],
   "source": [
    "\n",
    "# create and shuffle a list of indices\n",
    "idx_list=[i for i in range(len(new_data['data']))]\n",
    "shuffled_idx_list=np.random.permutation(np.array(idx_list))\n",
    "\n",
    "# split the indices list into train and val indices\n",
    "_80thidx=(0.8*len(new_data['data']))\n",
    "train_indices_list=shuffled_idx_list[:int(_80thidx)]\n",
    "val_indices_list=shuffled_idx_list[int(_80thidx):]\n",
    "\n",
    "print(len(train_indices_list)+len(val_indices_list))"
   ]
  },
  {
   "cell_type": "code",
   "execution_count": 50,
   "metadata": {},
   "outputs": [],
   "source": [
    "# splitting  train data\n",
    "train_data={}\n",
    "train_data['data']=new_data['data'][train_indices_list]\n",
    "train_data['target']=new_data['target'][train_indices_list]\n",
    "train_data['feature_names']=new_data['feature_names']\n",
    "train_data['target_names']=new_data['target_names']\n",
    "train_data['data'].shape"
   ]
  },
  {
   "cell_type": "code",
   "execution_count": 62,
   "metadata": {},
   "outputs": [
    {
     "data": {
      "text/plain": [
       "(4128, 3)"
      ]
     },
     "execution_count": 62,
     "metadata": {},
     "output_type": "execute_result"
    }
   ],
   "source": [
    "# splitting val data\n",
    "val_data={}\n",
    "val_data['data']=new_data['data'][val_indices_list]\n",
    "val_data['target']=new_data['target'][val_indices_list]\n",
    "val_data['feature_names']=new_data['feature_names']\n",
    "val_data['target_names']=new_data['target_names']\n",
    "val_data['data'].shape"
   ]
  },
  {
   "cell_type": "code",
   "execution_count": 63,
   "metadata": {},
   "outputs": [
    {
     "name": "stdout",
     "output_type": "stream",
     "text": [
      "   MedInc  HouseAge  AveRooms  target\n",
      "0  5.2957      18.0  6.483932   1.719\n",
      "1  1.9911      10.0  5.575668   0.675\n",
      "2  5.0912      44.0  6.457576   1.698\n"
     ]
    }
   ],
   "source": [
    "# converting to a Dataframe and then to csv\n",
    "\n",
    "# train data\n",
    "train_df=pd.DataFrame(train_data['data'],columns=train_data['feature_names'])\n",
    "train_df['target']=train_data['target']\n",
    "print(train_df[:3])\n",
    "\n",
    "\n",
    "val_df=pd.DataFrame(val_data['data'],columns=val_data['feature_names'])\n",
    "val_df['target']=val_data['target']\n",
    "print(val_df[:3])\n",
    "\n",
    "\n",
    "train_df.to_csv('train_data.csv',index=False)\n",
    "val_df.to_csv('val_data.csv',index=False)\n",
    "\n",
    "print(\"data saved in train_data.csv and val_data.csv\")"
   ]
  },
  {
   "cell_type": "markdown",
   "metadata": {},
   "source": [
    "### Lab Task 2 - Cost Function without and with Regularization"
   ]
  },
  {
   "cell_type": "code",
   "execution_count": 3,
   "metadata": {},
   "outputs": [],
   "source": [
    "import pandas as pd\n",
    "import numpy as np\n"
   ]
  },
  {
   "cell_type": "code",
   "execution_count": 8,
   "metadata": {},
   "outputs": [],
   "source": [
    "# load train data\n",
    "train_df=pd.read_csv(\"train_data.csv\")\n",
    "\n",
    "# load features and convert to numpy\n",
    "train_features=train_df.iloc[:,:-1]\n",
    "X=train_features.to_numpy()\n",
    "\n",
    "# load labels and convert to numpy\n",
    "train_labels=train_df.iloc[:,-1]\n",
    "y=train_labels.to_numpy()"
   ]
  },
  {
   "cell_type": "code",
   "execution_count": 10,
   "metadata": {},
   "outputs": [
    {
     "name": "stdout",
     "output_type": "stream",
     "text": [
      "(16512, 3)\n",
      "(16512,)\n"
     ]
    }
   ],
   "source": [
    "print(X.shape)\n",
    "print(y.shape)"
   ]
  },
  {
   "cell_type": "code",
   "execution_count": 50,
   "metadata": {},
   "outputs": [],
   "source": [
    "import random\n",
    "def cost_function(features,target,lambd,w_bias=None):\n",
    "    # add bias to features (a column of ones) and weights\n",
    "    m=features.shape[0]\n",
    "    n=features.shape[1]\n",
    "    target=target.reshape(-1,1)\n",
    "    w_bias=np.random.rand(n+1,1)\n",
    "    features_bias=np.c_[np.ones((m,1)),features]\n",
    "    # find hypothesis\n",
    "    h_x=np.dot(features_bias,w_bias)\n",
    "    #find cost\n",
    "    MSE=np.sum(np.square(h_x-target))/(2*m) \n",
    "    reg_term=(lambd* np.sum(np.square(w_bias[1:])))/2*m\n",
    "    cost=MSE+reg_term\n",
    "    print(f\"features shape: {features_bias.shape}\")\n",
    "    print(f\"weights shape: {w_bias.shape}\")\n",
    "    print(f\"hypothesis shape: {h_x.shape}\")\n",
    "    print(f\"target shape: {target.shape}\")\n",
    "    print(f\"top 5 predictions: {h_x[:5]}\")\n",
    "    print(f\"top 5 labels: {target[:5]}\")\n",
    "    print(f\"cost: {cost}\")\n",
    "\n",
    "    return cost"
   ]
  },
  {
   "cell_type": "code",
   "execution_count": 51,
   "metadata": {},
   "outputs": [
    {
     "name": "stdout",
     "output_type": "stream",
     "text": [
      "features shape: (16512, 4)\n",
      "weights shape: (4, 1)\n",
      "hypothesis shape: (16512, 1)\n",
      "target shape: (16512, 1)\n",
      "top 5 predictions: [[13.87445997]\n",
      " [ 8.43555387]\n",
      " [27.08657708]\n",
      " [13.86963806]\n",
      " [25.05490842]]\n",
      "top 5 labels: [[1.719  ]\n",
      " [0.675  ]\n",
      " [1.698  ]\n",
      " [2.185  ]\n",
      " [5.00001]]\n",
      "cost: 152.83171501442507\n",
      "(16512,)\n"
     ]
    }
   ],
   "source": [
    "cost_function(X,y,0.5)\n",
    "print(y.shape)"
   ]
  },
  {
   "cell_type": "markdown",
   "metadata": {},
   "source": [
    "### Lab Task 3 –Gradient Descent without and with Regularization"
   ]
  },
  {
   "cell_type": "code",
   "execution_count": null,
   "metadata": {},
   "outputs": [],
   "source": [
    "def compute_gradient(X,y,W):\n",
    "    dj_dw_sum=0\n",
    "\n",
    "    m=X.shape[0]\n",
    "\n",
    "    h_x=np.dot(X,W)\n",
    "    h_x-y\n",
    "\n"
   ]
  }
 ],
 "metadata": {
  "kernelspec": {
   "display_name": "base",
   "language": "python",
   "name": "python3"
  },
  "language_info": {
   "codemirror_mode": {
    "name": "ipython",
    "version": 3
   },
   "file_extension": ".py",
   "mimetype": "text/x-python",
   "name": "python",
   "nbconvert_exporter": "python",
   "pygments_lexer": "ipython3",
   "version": "3.12.3"
  }
 },
 "nbformat": 4,
 "nbformat_minor": 2
}
