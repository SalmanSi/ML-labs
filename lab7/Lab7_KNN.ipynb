{
  "cells": [
    {
      "cell_type": "markdown",
      "metadata": {
        "id": "uIgMz5RsCD1C"
      },
      "source": [
        "## Load and Normalize the iris data"
      ]
    },
    {
      "cell_type": "code",
      "execution_count": 1,
      "metadata": {
        "colab": {
          "base_uri": "https://localhost:8080/"
        },
        "id": "C1R7068UCGr9",
        "outputId": "95fe47e8-d203-4e4f-b86d-afe051fd9f40"
      },
      "outputs": [
        {
          "name": "stdout",
          "output_type": "stream",
          "text": [
            "Dataset loaded and preprocessed successfully!\n"
          ]
        }
      ],
      "source": [
        "import numpy as np\n",
        "import pandas as pd\n",
        "from sklearn.datasets import load_iris\n",
        "from sklearn.model_selection import train_test_split\n",
        "from sklearn.preprocessing import MinMaxScaler\n",
        "\n",
        "# Load the Iris dataset\n",
        "iris = load_iris()\n",
        "X, y = iris.data, iris.target  # Features and target labels\n",
        "\n",
        "# Convert target labels to categorical names (like \"Arctica\", \"Harlequin\", \"Caroliniana\")\n",
        "target_names = {0: \"Arctica\", 1: \"Harlequin\", 2: \"Caroliniana\"}\n",
        "y = np.array([target_names[label] for label in y])\n",
        "\n",
        "# Split into training (80%) and test (20%) sets\n",
        "X_train, X_test, y_train, y_test = train_test_split(X, y, test_size=0.2, random_state=42)\n",
        "\n",
        "# Normalize data using Min-Max Scaling\n",
        "scaler = MinMaxScaler()\n",
        "X_train = scaler.fit_transform(X_train)\n",
        "X_test = scaler.transform(X_test)\n",
        "\n",
        "print(\"Dataset loaded and preprocessed successfully!\")\n"
      ]
    },
    {
      "cell_type": "markdown",
      "metadata": {
        "id": "v_vMX8I5CoTz"
      },
      "source": [
        "## kNN Implementation"
      ]
    },
    {
      "cell_type": "code",
      "execution_count": 2,
      "metadata": {
        "id": "YGJVxRoHCqgm"
      },
      "outputs": [],
      "source": [
        "from collections import Counter\n",
        "\n",
        "# Function to compute Euclidean distance\n",
        "def euclidean_distance(x1, x2):\n",
        "    return np.sqrt(np.sum((x1 - x2) ** 2))\n",
        "\n",
        "# kNN Classifier implementation\n",
        "class KNNClassifier:\n",
        "    def __init__(self, k=3):\n",
        "        self.k = k\n",
        "\n",
        "    def fit(self, X_train, y_train):\n",
        "        self.X_train = X_train\n",
        "        self.y_train = y_train\n",
        "\n",
        "    def predict(self, X_test):\n",
        "        predictions = []\n",
        "        for test_sample in X_test:\n",
        "            # Compute distances to all training points\n",
        "            distances = [euclidean_distance(test_sample, x_train) for x_train in self.X_train]\n",
        "\n",
        "            # Get indices of k nearest neighbors\n",
        "            k_indices = np.argsort(distances)[:self.k]\n",
        "\n",
        "            # Get the labels of k nearest neighbors\n",
        "            k_nearest_labels = [self.y_train[i] for i in k_indices]\n",
        "\n",
        "            # Majority vote for prediction\n",
        "            most_common = Counter(k_nearest_labels).most_common(1)[0][0]\n",
        "            predictions.append(most_common)\n",
        "\n",
        "        return np.array(predictions)\n"
      ]
    },
    {
      "cell_type": "markdown",
      "metadata": {
        "id": "POgLHhPMCvj_"
      },
      "source": [
        "## Training and testing with different k values"
      ]
    },
    {
      "cell_type": "code",
      "execution_count": 3,
      "metadata": {
        "colab": {
          "base_uri": "https://localhost:8080/"
        },
        "id": "DW9OeR8CCyKJ",
        "outputId": "45d78497-8c6e-427d-8a9b-10bbd557fe49"
      },
      "outputs": [
        {
          "name": "stdout",
          "output_type": "stream",
          "text": [
            "\n",
            "🔹 Evaluating kNN for k = 3\n",
            "✅ Accuracy for k = 3: 1.0000\n",
            "\n",
            "🔹 Evaluating kNN for k = 5\n",
            "✅ Accuracy for k = 5: 1.0000\n",
            "\n",
            "🔹 Evaluating kNN for k = 7\n",
            "✅ Accuracy for k = 7: 1.0000\n"
          ]
        }
      ],
      "source": [
        "from sklearn.metrics import accuracy_score\n",
        "\n",
        "# Values of k to test\n",
        "k_values = [3, 5, 7]\n",
        "\n",
        "for k in k_values:\n",
        "    print(f\"\\n🔹 Evaluating kNN for k = {k}\")\n",
        "\n",
        "    # Initialize and train kNN model\n",
        "    knn = KNNClassifier(k=k)\n",
        "    knn.fit(X_train, y_train)\n",
        "\n",
        "    # Predict on test data\n",
        "    y_pred = knn.predict(X_test)\n",
        "\n",
        "    # Calculate accuracy\n",
        "    accuracy = accuracy_score(y_test, y_pred)\n",
        "    print(f\"✅ Accuracy for k = {k}: {accuracy:.4f}\")\n"
      ]
    },
    {
      "cell_type": "markdown",
      "metadata": {
        "id": "S5Gc-NDFC6eZ"
      },
      "source": [
        "## We get 100% accuracy with eucleadean distance and k = 3,5 and 7"
      ]
    },
    {
      "cell_type": "code",
      "execution_count": null,
      "metadata": {
        "id": "9Y3VM2-IDAGl"
      },
      "outputs": [],
      "source": []
    }
  ],
  "metadata": {
    "colab": {
      "provenance": []
    },
    "kernelspec": {
      "display_name": "Python 3",
      "name": "python3"
    },
    "language_info": {
      "name": "python"
    }
  },
  "nbformat": 4,
  "nbformat_minor": 0
}
